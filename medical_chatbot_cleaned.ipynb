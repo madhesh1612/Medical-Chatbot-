{
  "nbformat": 4,
  "nbformat_minor": 0,
  "metadata": {},
  "cells": [
    {
      "cell_type": "code",
      "execution_count": 1,
      "metadata": {
        "colab": {
          "base_uri": "https://localhost:8080/"
        },
        "id": "OP1nHduMNNrb",
        "outputId": "b0d01464-c865-436d-8130-bc4d5042152b"
      },
      "outputs": [
        {
          "output_type": "stream",
          "name": "stdout",
          "text": [
            "Requirement already satisfied: transformers in /usr/local/lib/python3.11/dist-packages (4.53.3)\n",
            "Requirement already satisfied: sentencepiece in /usr/local/lib/python3.11/dist-packages (0.2.0)\n",
            "Requirement already satisfied: gradio in /usr/local/lib/python3.11/dist-packages (5.38.1)\n",
            "Requirement already satisfied: filelock in /usr/local/lib/python3.11/dist-packages (from transformers) (3.18.0)\n",
            "Requirement already satisfied: huggingface-hub<1.0,>=0.30.0 in /usr/local/lib/python3.11/dist-packages (from transformers) (0.33.4)\n",
            "Requirement already satisfied: numpy>=1.17 in /usr/local/lib/python3.11/dist-packages (from transformers) (2.0.2)\n",
            "Requirement already satisfied: packaging>=20.0 in /usr/local/lib/python3.11/dist-packages (from transformers) (25.0)\n",
            "Requirement already satisfied: pyyaml>=5.1 in /usr/local/lib/python3.11/dist-packages (from transformers) (6.0.2)\n",
            "Requirement already satisfied: regex!=2019.12.17 in /usr/local/lib/python3.11/dist-packages (from transformers) (2024.11.6)\n",
            "Requirement already satisfied: requests in /usr/local/lib/python3.11/dist-packages (from transformers) (2.32.3)\n",
            "Requirement already satisfied: tokenizers<0.22,>=0.21 in /usr/local/lib/python3.11/dist-packages (from transformers) (0.21.2)\n",
            "Requirement already satisfied: safetensors>=0.4.3 in /usr/local/lib/python3.11/dist-packages (from transformers) (0.5.3)\n",
            "Requirement already satisfied: tqdm>=4.27 in /usr/local/lib/python3.11/dist-packages (from transformers) (4.67.1)\n",
            "Requirement already satisfied: aiofiles<25.0,>=22.0 in /usr/local/lib/python3.11/dist-packages (from gradio) (24.1.0)\n",
            "Requirement already satisfied: anyio<5.0,>=3.0 in /usr/local/lib/python3.11/dist-packages (from gradio) (4.9.0)\n",
            "Requirement already satisfied: brotli>=1.1.0 in /usr/local/lib/python3.11/dist-packages (from gradio) (1.1.0)\n",
            "Requirement already satisfied: fastapi<1.0,>=0.115.2 in /usr/local/lib/python3.11/dist-packages (from gradio) (0.116.1)\n",
            "Requirement already satisfied: ffmpy in /usr/local/lib/python3.11/dist-packages (from gradio) (0.6.1)\n",
            "Requirement already satisfied: gradio-client==1.11.0 in /usr/local/lib/python3.11/dist-packages (from gradio) (1.11.0)\n",
            "Requirement already satisfied: groovy~=0.1 in /usr/local/lib/python3.11/dist-packages (from gradio) (0.1.2)\n",
            "Requirement already satisfied: httpx<1.0,>=0.24.1 in /usr/local/lib/python3.11/dist-packages (from gradio) (0.28.1)\n",
            "Requirement already satisfied: jinja2<4.0 in /usr/local/lib/python3.11/dist-packages (from gradio) (3.1.6)\n",
            "Requirement already satisfied: markupsafe<4.0,>=2.0 in /usr/local/lib/python3.11/dist-packages (from gradio) (3.0.2)\n",
            "Requirement already satisfied: orjson~=3.0 in /usr/local/lib/python3.11/dist-packages (from gradio) (3.11.0)\n",
            "Requirement already satisfied: pandas<3.0,>=1.0 in /usr/local/lib/python3.11/dist-packages (from gradio) (2.2.2)\n",
            "Requirement already satisfied: pillow<12.0,>=8.0 in /usr/local/lib/python3.11/dist-packages (from gradio) (11.3.0)\n",
            "Requirement already satisfied: pydantic<2.12,>=2.0 in /usr/local/lib/python3.11/dist-packages (from gradio) (2.11.7)\n",
            "Requirement already satisfied: pydub in /usr/local/lib/python3.11/dist-packages (from gradio) (0.25.1)\n",
            "Requirement already satisfied: python-multipart>=0.0.18 in /usr/local/lib/python3.11/dist-packages (from gradio) (0.0.20)\n",
            "Requirement already satisfied: ruff>=0.9.3 in /usr/local/lib/python3.11/dist-packages (from gradio) (0.12.4)\n",
            "Requirement already satisfied: safehttpx<0.2.0,>=0.1.6 in /usr/local/lib/python3.11/dist-packages (from gradio) (0.1.6)\n",
            "Requirement already satisfied: semantic-version~=2.0 in /usr/local/lib/python3.11/dist-packages (from gradio) (2.10.0)\n",
            "Requirement already satisfied: starlette<1.0,>=0.40.0 in /usr/local/lib/python3.11/dist-packages (from gradio) (0.47.2)\n",
            "Requirement already satisfied: tomlkit<0.14.0,>=0.12.0 in /usr/local/lib/python3.11/dist-packages (from gradio) (0.13.3)\n",
            "Requirement already satisfied: typer<1.0,>=0.12 in /usr/local/lib/python3.11/dist-packages (from gradio) (0.16.0)\n",
            "Requirement already satisfied: typing-extensions~=4.0 in /usr/local/lib/python3.11/dist-packages (from gradio) (4.14.1)\n",
            "Requirement already satisfied: uvicorn>=0.14.0 in /usr/local/lib/python3.11/dist-packages (from gradio) (0.35.0)\n",
            "Requirement already satisfied: fsspec in /usr/local/lib/python3.11/dist-packages (from gradio-client==1.11.0->gradio) (2025.3.0)\n",
            "Requirement already satisfied: websockets<16.0,>=10.0 in /usr/local/lib/python3.11/dist-packages (from gradio-client==1.11.0->gradio) (15.0.1)\n",
            "Requirement already satisfied: idna>=2.8 in /usr/local/lib/python3.11/dist-packages (from anyio<5.0,>=3.0->gradio) (3.10)\n",
            "Requirement already satisfied: sniffio>=1.1 in /usr/local/lib/python3.11/dist-packages (from anyio<5.0,>=3.0->gradio) (1.3.1)\n",
            "Requirement already satisfied: certifi in /usr/local/lib/python3.11/dist-packages (from httpx<1.0,>=0.24.1->gradio) (2025.7.14)\n",
            "Requirement already satisfied: httpcore==1.* in /usr/local/lib/python3.11/dist-packages (from httpx<1.0,>=0.24.1->gradio) (1.0.9)\n",
            "Requirement already satisfied: h11>=0.16 in /usr/local/lib/python3.11/dist-packages (from httpcore==1.*->httpx<1.0,>=0.24.1->gradio) (0.16.0)\n",
            "Requirement already satisfied: hf-xet<2.0.0,>=1.1.2 in /usr/local/lib/python3.11/dist-packages (from huggingface-hub<1.0,>=0.30.0->transformers) (1.1.5)\n",
            "Requirement already satisfied: python-dateutil>=2.8.2 in /usr/local/lib/python3.11/dist-packages (from pandas<3.0,>=1.0->gradio) (2.9.0.post0)\n",
            "Requirement already satisfied: pytz>=2020.1 in /usr/local/lib/python3.11/dist-packages (from pandas<3.0,>=1.0->gradio) (2025.2)\n",
            "Requirement already satisfied: tzdata>=2022.7 in /usr/local/lib/python3.11/dist-packages (from pandas<3.0,>=1.0->gradio) (2025.2)\n",
            "Requirement already satisfied: annotated-types>=0.6.0 in /usr/local/lib/python3.11/dist-packages (from pydantic<2.12,>=2.0->gradio) (0.7.0)\n",
            "Requirement already satisfied: pydantic-core==2.33.2 in /usr/local/lib/python3.11/dist-packages (from pydantic<2.12,>=2.0->gradio) (2.33.2)\n",
            "Requirement already satisfied: typing-inspection>=0.4.0 in /usr/local/lib/python3.11/dist-packages (from pydantic<2.12,>=2.0->gradio) (0.4.1)\n",
            "Requirement already satisfied: click>=8.0.0 in /usr/local/lib/python3.11/dist-packages (from typer<1.0,>=0.12->gradio) (8.2.1)\n",
            "Requirement already satisfied: shellingham>=1.3.0 in /usr/local/lib/python3.11/dist-packages (from typer<1.0,>=0.12->gradio) (1.5.4)\n",
            "Requirement already satisfied: rich>=10.11.0 in /usr/local/lib/python3.11/dist-packages (from typer<1.0,>=0.12->gradio) (13.9.4)\n",
            "Requirement already satisfied: charset-normalizer<4,>=2 in /usr/local/lib/python3.11/dist-packages (from requests->transformers) (3.4.2)\n",
            "Requirement already satisfied: urllib3<3,>=1.21.1 in /usr/local/lib/python3.11/dist-packages (from requests->transformers) (2.5.0)\n",
            "Requirement already satisfied: six>=1.5 in /usr/local/lib/python3.11/dist-packages (from python-dateutil>=2.8.2->pandas<3.0,>=1.0->gradio) (1.17.0)\n",
            "Requirement already satisfied: markdown-it-py>=2.2.0 in /usr/local/lib/python3.11/dist-packages (from rich>=10.11.0->typer<1.0,>=0.12->gradio) (3.0.0)\n",
            "Requirement already satisfied: pygments<3.0.0,>=2.13.0 in /usr/local/lib/python3.11/dist-packages (from rich>=10.11.0->typer<1.0,>=0.12->gradio) (2.19.2)\n",
            "Requirement already satisfied: mdurl~=0.1 in /usr/local/lib/python3.11/dist-packages (from markdown-it-py>=2.2.0->rich>=10.11.0->typer<1.0,>=0.12->gradio) (0.1.2)\n"
          ]
        }
      ],
      "source": [
        "!pip install transformers sentencepiece gradio\n"
      ]
    },
    {
      "cell_type": "code",
      "source": [
        "from transformers import pipeline\n",
        "\n",
        "# Load a Hugging Face model that works without an API key\n",
        "chatbot = pipeline(\"text2text-generation\", model=\"google/flan-t5-base\")\n",
        "\n",
        "def get_response(user_input):\n",
        "    prompt = f\"Suggest basic medical advice for the symptom: {user_input}\"\n",
        "    reply = chatbot(prompt, max_length=100, do_sample=True)[0]['generated_text']\n",
        "    return reply\n"
      ],
      "metadata": {
        "colab": {
          "base_uri": "https://localhost:8080/",
          "height": 383,
          "referenced_widgets": [
            "9e2f9f883e6143bdb04fa053ed332e17",
            "0260acf666df4d9894f9e8b8c9f18f09",
            "d4377fe8d9c1491fb6fed5e43826068b",
            "7fdf334c226d412aa4ef030d2189ac32",
            "a18596594de0449b9568744c8de09518",
            "e7cda56399bb42efa045e62e8feca24d",
            "aaea0a203c8447f9a7d892d35c7d72f5",
            "2556f04812704a479f7629f22e229d7a",
            "67b34f80a22749cd8e6486efec992a6e",
            "e3d8bb24afaa455ebbfb5f2a971e7a82",
            "0cb9d72505ec469880f4ff0ad69186af",
            "2ceb1d44b08f495182d08a7ef1edad93",
            "e260ad21de8c4796898241316eabc0a4",
            "9d94932612bd4dd6a324212a184b001d",
            "2bf4b562808943ce80e316dcdff786f5",
            "7f752d5e395c4cca83e0709ed8692184",
            "3aa92f3de0f242a9a6364ef8fba49859",
            "c9e98c8931fe4fdebf6dc727fbf57cd3",
            "56a71f3c0c5a4a0993e229bf9cce92b1",
            "83e9cb1993624058af3bd530dd1c0697",
            "d8e8e897ee604d4abb8e406c813334cc",
            "d1c283678e3e47979e60362931c8ac41",
            "7f841d8b21674a47af6b346276698711",
            "c9ef69cbd56a41359d7cc87d12f8069e",
            "329ef4837e6b400bb7555d71d8a8062f",
            "67fd405d3a95473a9e6faaa4fa7f78ae",
            "f216decc68214a44a0ad4a93198f1141",
            "2ee8b019d0ec44708d246a94917d2591",
            "3df6371616fc4ccc9b4be16b9f0b00f2",
            "af4cd2b5f7fa46ea8018b47f47a7068b",
            "eb12e1a1d7fb4666aff4f477abf863a4",
            "2b82ae9bc2634d4c91d20f5f8ebb9e7a",
            "00ea155482a84e908aed1325bc2e42f2",
            "c74031c154284d91a434407cbe22d3ed",
            "68092c266e3d4901b460a4d2afaa1086",
            "576a8dc95d744118ad5a59299bb50e32",
            "004fff7887ed4d9db1f6689f2eb2421f",
            "7077f7008dbe4ea48c9404eb2b9bc6ad",
            "e039bd2b5de547c2874e837ab9b603f6",
            "98072d7a40634fd492a565ffe2e17288",
            "623eb83d1daa44e29457597ca2d7cda4",
            "49169c62ef754471b8a0d4151e21c0dd",
            "f81789db8a1d496ab8c2bfc848e7ff4d",
            "17b88ac07fff4e62a7d5e84f5e150c07",
            "97fc8f30465744228d53ae1e6d6b7bed",
            "307c8aa1e98148ef8fde5b98e2ffccd3",
            "67299f880ecb425e87189bbce2337c84",
            "357d143dff5a4538a8630a9f847cf589",
            "fb452ff149194a36bef6cac9b553905d",
            "01ad1377a2db479c9e8a4db5992713d6",
            "086603e37c0440c6846cc6eb29493103",
            "a1d0f3fb72ad41edbdd0073e18a43a0b",
            "4a69736daccb444eb0f09b68e8a4984f",
            "3f379e63ebb14303b9d5f802b86c8dc2",
            "b412073aa806418695593b85e7ecbbe7",
            "164e281dfaff4867ab071d3d66b55994",
            "e1ba63c447f24ad68f45232df8052cf7",
            "5666f1d773364c97a62abafc8f57cff3",
            "8d6ed609cd5a4cb5bddc98f3f461dcc8",
            "27b01d6afe3c4679a67c8478b0e15384",
            "ec06c1dee7dc4ca092b9ecc953c902ea",
            "0bedaa5bd6e74fa8b483ed5fe4b4c772",
            "0cfac6ca280c4f61a378c0ffa3318891",
            "bc6820d8488947a393d605c7c275fc53",
            "5e24cb5315eb4d15b2b4861b21f31692",
            "065526ed38ca4866aa83f7befc459f4e",
            "1c43d468a6ec4d11a3bac71d9ed894f6",
            "59dbf8bd1d2648f6a99c27dafef0d9e2",
            "5f34dc50f93b4ce59ffa95589f3687b9",
            "ee7af0f186ad4f8bb3bb1a67c3567809",
            "dbffbc1cce01419ab138db2a0ee56c39",
            "8fa3cf2545ac4832b766726ffbc9d370",
            "4344b5f7b3ac4aac9e2e45c06f44d194",
            "d7e3d86e7b0b417ab948a1d432da79e9",
            "66d938991d0c44bb805aecc4f15878fe",
            "38aa20716b914c27a5425a5ea4bdd128",
            "f6e940af6325497c8f8d117ff119e083"
          ]
        },
        "id": "OANd3_TONXgO",
        "outputId": "3473e997-6f19-4db4-9ef8-8be517e4e546"
      },
      "execution_count": 2,
      "outputs": [
        {
          "output_type": "stream",
          "name": "stderr",
          "text": [
            "/usr/local/lib/python3.11/dist-packages/huggingface_hub/utils/_auth.py:94: UserWarning: \n",
            "The secret `HF_TOKEN` does not exist in your Colab secrets.\n",
            "To authenticate with the Hugging Face Hub, create a token in your settings tab (https://huggingface.co/settings/tokens), set it as secret in your Google Colab and restart your session.\n",
            "You will be able to reuse this secret in all of your notebooks.\n",
            "Please note that authentication is recommended but still optional to access public models or datasets.\n",
            "  warnings.warn(\n"
          ]
        },
        {
          "output_type": "display_data",
          "data": {
            "text/plain": [
              "config.json: 0.00B [00:00, ?B/s]"
            ],
            "application/vnd.jupyter.widget-view+json": {
              "version_major": 2,
              "version_minor": 0,
              "model_id": "9e2f9f883e6143bdb04fa053ed332e17"
            }
          },
          "metadata": {}
        },
        {
          "output_type": "display_data",
          "data": {
            "text/plain": [
              "model.safetensors:   0%|          | 0.00/990M [00:00<?, ?B/s]"
            ],
            "application/vnd.jupyter.widget-view+json": {
              "version_major": 2,
              "version_minor": 0,
              "model_id": "2ceb1d44b08f495182d08a7ef1edad93"
            }
          },
          "metadata": {}
        },
        {
          "output_type": "display_data",
          "data": {
            "text/plain": [
              "generation_config.json:   0%|          | 0.00/147 [00:00<?, ?B/s]"
            ],
            "application/vnd.jupyter.widget-view+json": {
              "version_major": 2,
              "version_minor": 0,
              "model_id": "7f841d8b21674a47af6b346276698711"
            }
          },
          "metadata": {}
        },
        {
          "output_type": "display_data",
          "data": {
            "text/plain": [
              "tokenizer_config.json: 0.00B [00:00, ?B/s]"
            ],
            "application/vnd.jupyter.widget-view+json": {
              "version_major": 2,
              "version_minor": 0,
              "model_id": "c74031c154284d91a434407cbe22d3ed"
            }
          },
          "metadata": {}
        },
        {
          "output_type": "display_data",
          "data": {
            "text/plain": [
              "spiece.model:   0%|          | 0.00/792k [00:00<?, ?B/s]"
            ],
            "application/vnd.jupyter.widget-view+json": {
              "version_major": 2,
              "version_minor": 0,
              "model_id": "97fc8f30465744228d53ae1e6d6b7bed"
            }
          },
          "metadata": {}
        },
        {
          "output_type": "display_data",
          "data": {
            "text/plain": [
              "tokenizer.json: 0.00B [00:00, ?B/s]"
            ],
            "application/vnd.jupyter.widget-view+json": {
              "version_major": 2,
              "version_minor": 0,
              "model_id": "164e281dfaff4867ab071d3d66b55994"
            }
          },
          "metadata": {}
        },
        {
          "output_type": "display_data",
          "data": {
            "text/plain": [
              "special_tokens_map.json: 0.00B [00:00, ?B/s]"
            ],
            "application/vnd.jupyter.widget-view+json": {
              "version_major": 2,
              "version_minor": 0,
              "model_id": "1c43d468a6ec4d11a3bac71d9ed894f6"
            }
          },
          "metadata": {}
        },
        {
          "output_type": "stream",
          "name": "stderr",
          "text": [
            "Device set to use cpu\n"
          ]
        }
      ]
    },
    {
      "cell_type": "code",
      "source": [
        "while True:\n",
        "    user = input(\"You: \")\n",
        "    if user.lower() == \"exit\":\n",
        "        break\n",
        "    print(\"Bot:\", get_response(user))\n"
      ],
      "metadata": {
        "colab": {
          "base_uri": "https://localhost:8080/"
        },
        "id": "NQuo7rncNwco",
        "outputId": "8aea7ecb-7949-4745-aa17-c428d1969a4f"
      },
      "execution_count": 3,
      "outputs": [
        {
          "name": "stdout",
          "output_type": "stream",
          "text": [
            "You: bot\n"
          ]
        },
        {
          "output_type": "stream",
          "name": "stderr",
          "text": [
            "Both `max_new_tokens` (=256) and `max_length`(=100) seem to have been set. `max_new_tokens` will take precedence. Please refer to the documentation for more information. (https://huggingface.co/docs/transformers/main/en/main_classes/text_generation)\n"
          ]
        },
        {
          "name": "stdout",
          "output_type": "stream",
          "text": [
            "Bot: swollen or swollen rectum or pharyngitis\n",
            "You: Suggest basic medical advice for the symptom\n"
          ]
        },
        {
          "output_type": "stream",
          "name": "stderr",
          "text": [
            "Both `max_new_tokens` (=256) and `max_length`(=100) seem to have been set. `max_new_tokens` will take precedence. Please refer to the documentation for more information. (https://huggingface.co/docs/transformers/main/en/main_classes/text_generation)\n"
          ]
        },
        {
          "name": "stdout",
          "output_type": "stream",
          "text": [
            "Bot: Pregnancy is a common symptom of pregnancy. Pregnancy is a common symptom of pregnancy. Pregnancy is a common symptom of pregnancy. Pregnancy is a common symptom of pregnancy. Pregnancy is a common symptom of pregnancy. Pregnancy is a common symptom of pregnancy. Pregnancy is a common symptom of pregnancy. Pregnancy is a common symptom of pregnancy. Pregnancy is a common symptom of pregnancy. Pregnancy is a common symptom of pregnancy. Pregnancy is a common symptom of pregnancy. Pregnancy is a common symptom of pregnancy. Pregnancy is a common symptom of pregnancy. Pregnancy is a common symptom of pregnancy. Pregnancy is a common symptom of pregnancy. Pregnancy is a common symptom of pregnancy. Pregnancy is a common symptom of pregnancy. Pregnancy is a common symptom of pregnancy. Pregnancy is a common symptom of pregnancy. Pregnancy is a common symptom of pregnancy. Pregnancy is a common symptom of pregnancy. Pregnancy is\n",
            "You: exit\n"
          ]
        }
      ]
    },
    {
      "cell_type": "code",
      "source": [
        "import gradio as gr\n",
        "\n",
        "gr.Interface(fn=get_response, inputs=\"text\", outputs=\"text\",\n",
        "             title=\"\ud83e\udde0 Smart Medical Chatbot (No API Key)\",\n",
        "             description=\"Enter your symptoms to receive smart AI-based suggestions.\"\n",
        "            ).launch()\n"
      ],
      "metadata": {
        "colab": {
          "base_uri": "https://localhost:8080/",
          "height": 646
        },
        "id": "sk8_3HxQNw6s",
        "outputId": "5f8af392-3e9d-4d43-f866-96b5cdc05a07"
      },
      "execution_count": 4,
      "outputs": [
        {
          "output_type": "stream",
          "name": "stdout",
          "text": [
            "It looks like you are running Gradio on a hosted Jupyter notebook, which requires `share=True`. Automatically setting `share=True` (you can turn this off by setting `share=False` in `launch()` explicitly).\n",
            "\n",
            "Colab notebook detected. To show errors in colab notebook, set debug=True in launch()\n",
            "* Running on public URL: https://e70e7850c490742299.gradio.live\n",
            "\n",
            "This share link expires in 1 week. For free permanent hosting and GPU upgrades, run `gradio deploy` from the terminal in the working directory to deploy to Hugging Face Spaces (https://huggingface.co/spaces)\n"
          ]
        },
        {
          "output_type": "display_data",
          "data": {
            "text/plain": [
              "<IPython.core.display.HTML object>"
            ],
            "text/html": [
              "<div><iframe src=\"https://e70e7850c490742299.gradio.live\" width=\"100%\" height=\"500\" allow=\"autoplay; camera; microphone; clipboard-read; clipboard-write;\" frameborder=\"0\" allowfullscreen></iframe></div>"
            ]
          },
          "metadata": {}
        },
        {
          "output_type": "execute_result",
          "data": {
            "text/plain": []
          },
          "metadata": {},
          "execution_count": 4
        }
      ]
    }
  ]
}